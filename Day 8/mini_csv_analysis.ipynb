{
  "nbformat": 4,
  "nbformat_minor": 0,
  "metadata": {
    "colab": {
      "provenance": []
    },
    "kernelspec": {
      "name": "python3",
      "display_name": "Python 3"
    },
    "language_info": {
      "name": "python"
    }
  },
  "cells": [
    {
      "cell_type": "code",
      "source": [
        "import pandas as pd\n",
        "df = pd.read_excel('Dataset.xlsx')\n"
      ],
      "metadata": {
        "id": "UNWJHEwjkDFO"
      },
      "execution_count": 35,
      "outputs": []
    },
    {
      "cell_type": "code",
      "source": [
        "df = df.dropna()\n",
        "df[\"Total Sales\"] = df[\"Units Sold\"] * df[\"Unit Price\"]\n"
      ],
      "metadata": {
        "id": "8LAttCMTkSvW"
      },
      "execution_count": 36,
      "outputs": []
    },
    {
      "cell_type": "code",
      "source": [
        "print(\"✅ Total Sales:\", df[\"Total Sales\"].sum())\n",
        "print( )\n",
        "print(\"📊 Average Sales by Region:\")\n",
        "print(df.groupby(\"Region\")[\"Total Sales\"].mean())\n",
        "print( )\n",
        "print(\"🏆 Top 2 Salespersons:\")\n",
        "print(df.groupby(\"Salesperson\")[\"Total Sales\"].sum().sort_values(ascending=False).head(2))\n",
        "print( )\n",
        "print(\"🧮 Units Sold Per Product:\")\n",
        "print(df.groupby(\"Product\")[\"Units Sold\"].sum())\n",
        "print( )\n",
        "print(\"🔍 Sales > ₹2000:\")\n",
        "print(df[df[\"Total Sales\"] > 2000])\n",
        "print( )\n",
        "print(\"📈 Sorted by Total Sales:\")\n",
        "print(df.sort_values(\"Total Sales\", ascending=False))"
      ],
      "metadata": {
        "colab": {
          "base_uri": "https://localhost:8080/"
        },
        "id": "IEr_Qinxl94g",
        "outputId": "3e4aa4fd-393d-4b18-9b64-07893ff6b2d0"
      },
      "execution_count": 48,
      "outputs": [
        {
          "output_type": "stream",
          "name": "stdout",
          "text": [
            "✅ Total Sales: 13350\n",
            "\n",
            "📊 Average Sales by Region:\n",
            "Region\n",
            "East     1250.0\n",
            "North    1450.0\n",
            "South    1500.0\n",
            "West     2475.0\n",
            "Name: Total Sales, dtype: float64\n",
            "\n",
            "🏆 Top 2 Salespersons:\n",
            "Salesperson\n",
            "Neha    4200\n",
            "Aman    4050\n",
            "Name: Total Sales, dtype: int64\n",
            "\n",
            "🧮 Units Sold Per Product:\n",
            "Product\n",
            "Markers      165\n",
            "Notebooks    330\n",
            "Pens         360\n",
            "Staplers      60\n",
            "Name: Units Sold, dtype: int64\n",
            "\n",
            "🔍 Sales > ₹2000:\n",
            "        Date Region Salesperson    Product  Units Sold  Unit Price  \\\n",
            "1 2025-06-02   West        Neha  Notebooks         180          15   \n",
            "6 2025-06-07   West        Aman  Notebooks         150          15   \n",
            "\n",
            "   Total Sales  \n",
            "1         2700  \n",
            "6         2250  \n",
            "\n",
            "📈 Sorted by Total Sales:\n",
            "        Date Region Salesperson    Product  Units Sold  Unit Price  \\\n",
            "1 2025-06-02   West        Neha  Notebooks         180          15   \n",
            "6 2025-06-07   West        Aman  Notebooks         150          15   \n",
            "2 2025-06-03  North        Aman    Markers          90          20   \n",
            "3 2025-06-04  South       Priya   Staplers          60          25   \n",
            "5 2025-06-06  South        Neha    Markers          75          20   \n",
            "4 2025-06-05   East        Ravi       Pens         130          10   \n",
            "0 2025-06-01   East        Ravi       Pens         120          10   \n",
            "7 2025-06-08  North        Ravi       Pens         110          10   \n",
            "\n",
            "   Total Sales  \n",
            "1         2700  \n",
            "6         2250  \n",
            "2         1800  \n",
            "3         1500  \n",
            "5         1500  \n",
            "4         1300  \n",
            "0         1200  \n",
            "7         1100  \n"
          ]
        }
      ]
    }
  ]
}