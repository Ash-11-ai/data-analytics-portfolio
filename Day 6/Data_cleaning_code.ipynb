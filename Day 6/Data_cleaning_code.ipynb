{
  "nbformat": 4,
  "nbformat_minor": 0,
  "metadata": {
    "colab": {
      "provenance": []
    },
    "kernelspec": {
      "name": "python3",
      "display_name": "Python 3"
    },
    "language_info": {
      "name": "python"
    }
  },
  "cells": [
    {
      "cell_type": "code",
      "execution_count": 1,
      "metadata": {
        "colab": {
          "base_uri": "https://localhost:8080/"
        },
        "id": "ewUjpLIb0w82",
        "outputId": "132da93b-8e75-4e5b-f95c-01f72d8d4852"
      },
      "outputs": [
        {
          "output_type": "stream",
          "name": "stdout",
          "text": [
            "Original Data:\n",
            "   Name Region  Sales\n",
            "0  Ravi   East  500.0\n",
            "1  Neha   West  600.0\n",
            "2  Aman  North    NaN\n",
            "3  Ravi   East  500.0\n",
            "4  None  South  300.0\n"
          ]
        }
      ],
      "source": [
        "import pandas as pd\n",
        "\n",
        "data = {\n",
        "    \"Name\": [\"Ravi\", \"Neha\", \"Aman\", \"Ravi\", None],\n",
        "    \"Region\": [\"East\", \"West\", \"North\", \"East\", \"South\"],\n",
        "    \"Sales\": [500, 600, None, 500, 300]\n",
        "}\n",
        "\n",
        "df = pd.DataFrame(data)\n",
        "\n",
        "print(\"Original Data:\")\n",
        "print(df)"
      ]
    },
    {
      "cell_type": "code",
      "source": [
        "df_clean = df.dropna()\n",
        "\n",
        "print(\"After removing missing values:\")\n",
        "print(df_clean)"
      ],
      "metadata": {
        "colab": {
          "base_uri": "https://localhost:8080/"
        },
        "id": "H4VOzf1l23Li",
        "outputId": "638d34b8-c484-4e42-9383-47f91b07b776"
      },
      "execution_count": 8,
      "outputs": [
        {
          "output_type": "stream",
          "name": "stdout",
          "text": [
            "After removing missing values:\n",
            "   Name Region  Sales\n",
            "0  Ravi   East  500.0\n",
            "1  Neha   West  600.0\n",
            "3  Ravi   East  500.0\n"
          ]
        }
      ]
    },
    {
      "cell_type": "code",
      "source": [
        "df_no_duplicates = df_clean.drop_duplicates()\n",
        "\n",
        "print(\"After removing duplicates:\")\n",
        "print(df_no_duplicates)"
      ],
      "metadata": {
        "colab": {
          "base_uri": "https://localhost:8080/"
        },
        "id": "QswodQVB1Wb2",
        "outputId": "f7376fb8-2ded-467f-a272-4a1e653d896a"
      },
      "execution_count": 9,
      "outputs": [
        {
          "output_type": "stream",
          "name": "stdout",
          "text": [
            "After removing duplicates:\n",
            "   Name Region  Sales\n",
            "0  Ravi   East  500.0\n",
            "1  Neha   West  600.0\n"
          ]
        }
      ]
    },
    {
      "cell_type": "code",
      "source": [
        "east_data = df_no_duplicates[df_no_duplicates[\"Region\"] == \"East\"]\n",
        "print(\"Only East region sales:\")\n",
        "print(east_data)"
      ],
      "metadata": {
        "colab": {
          "base_uri": "https://localhost:8080/"
        },
        "id": "huaNTx4U2Pvu",
        "outputId": "b8864efd-e333-4f41-c812-2e9d150a797b"
      },
      "execution_count": 11,
      "outputs": [
        {
          "output_type": "stream",
          "name": "stdout",
          "text": [
            "Only East region sales:\n",
            "   Name Region  Sales\n",
            "0  Ravi   East  500.0\n"
          ]
        }
      ]
    },
    {
      "cell_type": "code",
      "source": [
        "high_sales = df_no_duplicates[df_no_duplicates[\"Sales\"] > 400]\n",
        "print(\"Sales > 400:\")\n",
        "print(high_sales)"
      ],
      "metadata": {
        "colab": {
          "base_uri": "https://localhost:8080/"
        },
        "id": "pkBp3Akd2XsG",
        "outputId": "659273e5-52f9-4492-cd8a-a0e8e38c64c6"
      },
      "execution_count": 12,
      "outputs": [
        {
          "output_type": "stream",
          "name": "stdout",
          "text": [
            "Sales > 400:\n",
            "   Name Region  Sales\n",
            "0  Ravi   East  500.0\n",
            "1  Neha   West  600.0\n"
          ]
        }
      ]
    },
    {
      "cell_type": "code",
      "source": [
        "sorted_sales = df_no_duplicates.sort_values(by=\"Sales\", ascending=False)\n",
        "print(\"Sorted by sales:\")\n",
        "print(sorted_sales)"
      ],
      "metadata": {
        "colab": {
          "base_uri": "https://localhost:8080/"
        },
        "id": "_HJXib7u2jAD",
        "outputId": "cd24860a-d5d2-46d1-e934-df5bb2b43c60"
      },
      "execution_count": 13,
      "outputs": [
        {
          "output_type": "stream",
          "name": "stdout",
          "text": [
            "Sorted by sales:\n",
            "   Name Region  Sales\n",
            "1  Neha   West  600.0\n",
            "0  Ravi   East  500.0\n"
          ]
        }
      ]
    }
  ]
}