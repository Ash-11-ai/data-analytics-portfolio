{
  "nbformat": 4,
  "nbformat_minor": 0,
  "metadata": {
    "colab": {
      "provenance": []
    },
    "kernelspec": {
      "name": "python3",
      "display_name": "Python 3"
    },
    "language_info": {
      "name": "python"
    }
  },
  "cells": [
    {
      "cell_type": "code",
      "execution_count": 2,
      "metadata": {
        "colab": {
          "base_uri": "https://localhost:8080/"
        },
        "id": "r8xfua3iYG74",
        "outputId": "14415307-72d9-426e-e775-75334405b47b"
      },
      "outputs": [
        {
          "output_type": "stream",
          "name": "stdout",
          "text": [
            "        Date Region Salesperson    Product  Units Sold  Unit Price  \\\n",
            "0 2025-06-01   East        Ravi       Pens         150          10   \n",
            "1 2025-06-02   West        Neha  Notebooks         200          15   \n",
            "2 2025-06-03  North        Aman    Markers         100          20   \n",
            "3 2025-06-04  South       Priya   Staplers          80          25   \n",
            "4 2025-06-05   East        Ravi       Pens         170          10   \n",
            "\n",
            "   Total Sales  \n",
            "0         1500  \n",
            "1         3000  \n",
            "2         2000  \n",
            "3         2000  \n",
            "4         1700  \n"
          ]
        }
      ],
      "source": [
        "import pandas as pd\n",
        "\n",
        "data = {\n",
        "    \"Date\": pd.date_range(start=\"2025-06-01\", periods=5, freq='D'),\n",
        "    \"Region\": [\"East\", \"West\", \"North\", \"South\", \"East\"],\n",
        "    \"Salesperson\": [\"Ravi\", \"Neha\", \"Aman\", \"Priya\", \"Ravi\"],\n",
        "    \"Product\": [\"Pens\", \"Notebooks\", \"Markers\", \"Staplers\", \"Pens\"],\n",
        "    \"Units Sold\": [150, 200, 100, 80, 170],\n",
        "    \"Unit Price\": [10, 15, 20, 25, 10]\n",
        "}\n",
        "\n",
        "df = pd.DataFrame(data)\n",
        "df[\"Total Sales\"] = df[\"Units Sold\"] * df[\"Unit Price\"]\n",
        "print(df)"
      ]
    },
    {
      "cell_type": "code",
      "source": [
        "print(\"Columns:\", df.columns)"
      ],
      "metadata": {
        "colab": {
          "base_uri": "https://localhost:8080/"
        },
        "id": "72JahT-IZQMW",
        "outputId": "fedb8ad7-b89c-4f8e-80ba-f5661bf55237"
      },
      "execution_count": 3,
      "outputs": [
        {
          "output_type": "stream",
          "name": "stdout",
          "text": [
            "Columns: Index(['Date', 'Region', 'Salesperson', 'Product', 'Units Sold', 'Unit Price',\n",
            "       'Total Sales'],\n",
            "      dtype='object')\n"
          ]
        }
      ]
    },
    {
      "cell_type": "code",
      "source": [
        "print(df.info())"
      ],
      "metadata": {
        "colab": {
          "base_uri": "https://localhost:8080/"
        },
        "id": "Md8uch87ZZor",
        "outputId": "78c14e1f-f8fa-41ff-fe2b-7c1d0ad75f03"
      },
      "execution_count": 4,
      "outputs": [
        {
          "output_type": "stream",
          "name": "stdout",
          "text": [
            "<class 'pandas.core.frame.DataFrame'>\n",
            "RangeIndex: 5 entries, 0 to 4\n",
            "Data columns (total 7 columns):\n",
            " #   Column       Non-Null Count  Dtype         \n",
            "---  ------       --------------  -----         \n",
            " 0   Date         5 non-null      datetime64[ns]\n",
            " 1   Region       5 non-null      object        \n",
            " 2   Salesperson  5 non-null      object        \n",
            " 3   Product      5 non-null      object        \n",
            " 4   Units Sold   5 non-null      int64         \n",
            " 5   Unit Price   5 non-null      int64         \n",
            " 6   Total Sales  5 non-null      int64         \n",
            "dtypes: datetime64[ns](1), int64(3), object(3)\n",
            "memory usage: 412.0+ bytes\n",
            "None\n"
          ]
        }
      ]
    },
    {
      "cell_type": "code",
      "source": [
        "print(df.describe())"
      ],
      "metadata": {
        "colab": {
          "base_uri": "https://localhost:8080/"
        },
        "id": "M2lCfD1aZbvS",
        "outputId": "d594b185-edff-4c55-ca73-fea4d1d22e02"
      },
      "execution_count": 5,
      "outputs": [
        {
          "output_type": "stream",
          "name": "stdout",
          "text": [
            "                      Date  Units Sold  Unit Price  Total Sales\n",
            "count                    5    5.000000    5.000000     5.000000\n",
            "mean   2025-06-03 00:00:00  140.000000   16.000000  2040.000000\n",
            "min    2025-06-01 00:00:00   80.000000   10.000000  1500.000000\n",
            "25%    2025-06-02 00:00:00  100.000000   10.000000  1700.000000\n",
            "50%    2025-06-03 00:00:00  150.000000   15.000000  2000.000000\n",
            "75%    2025-06-04 00:00:00  170.000000   20.000000  2000.000000\n",
            "max    2025-06-05 00:00:00  200.000000   25.000000  3000.000000\n",
            "std                    NaN   49.497475    6.519202   577.061522\n"
          ]
        }
      ]
    },
    {
      "cell_type": "code",
      "source": [
        "sales_by_region = df.groupby(\"Region\")[\"Total Sales\"].sum()\n",
        "print(\"Sales by Region\")\n",
        "print(sales_by_region)"
      ],
      "metadata": {
        "colab": {
          "base_uri": "https://localhost:8080/"
        },
        "id": "JFtNnPGmZeqR",
        "outputId": "0dbde51e-ac97-4d38-87ab-ebf8ff7c5a9b"
      },
      "execution_count": 10,
      "outputs": [
        {
          "output_type": "stream",
          "name": "stdout",
          "text": [
            "Sales by Region\n",
            "Region\n",
            "East     3200\n",
            "North    2000\n",
            "South    2000\n",
            "West     3000\n",
            "Name: Total Sales, dtype: int64\n"
          ]
        }
      ]
    },
    {
      "cell_type": "code",
      "source": [],
      "metadata": {
        "id": "Inp3ZU9sZw1V"
      },
      "execution_count": null,
      "outputs": []
    }
  ]
}