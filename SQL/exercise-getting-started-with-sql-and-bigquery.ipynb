{
 "cells": [
  {
   "cell_type": "markdown",
   "id": "b9abac8e",
   "metadata": {
    "papermill": {
     "duration": 0.005835,
     "end_time": "2025-07-05T05:01:58.618529",
     "exception": false,
     "start_time": "2025-07-05T05:01:58.612694",
     "status": "completed"
    },
    "tags": []
   },
   "source": [
    "**This notebook is an exercise in the [SQL](https://www.kaggle.com/learn/intro-to-sql) course.  You can reference the tutorial at [this link](https://www.kaggle.com/dansbecker/getting-started-with-sql-and-bigquery).**\n",
    "\n",
    "---\n"
   ]
  },
  {
   "cell_type": "markdown",
   "id": "f085d4f8",
   "metadata": {
    "papermill": {
     "duration": 0.003958,
     "end_time": "2025-07-05T05:01:58.627016",
     "exception": false,
     "start_time": "2025-07-05T05:01:58.623058",
     "status": "completed"
    },
    "tags": []
   },
   "source": [
    "# Introduction\n",
    "\n",
    "The first test of your new data exploration skills uses data describing crime in the city of Chicago.\n",
    "\n",
    "Before you get started, run the following cell. It sets up the automated feedback system to review your answers."
   ]
  },
  {
   "cell_type": "code",
   "execution_count": 1,
   "id": "042e7b08",
   "metadata": {
    "execution": {
     "iopub.execute_input": "2025-07-05T05:01:58.637318Z",
     "iopub.status.busy": "2025-07-05T05:01:58.636894Z",
     "iopub.status.idle": "2025-07-05T05:02:21.161810Z",
     "shell.execute_reply": "2025-07-05T05:02:21.160594Z"
    },
    "papermill": {
     "duration": 22.532326,
     "end_time": "2025-07-05T05:02:21.163839",
     "exception": false,
     "start_time": "2025-07-05T05:01:58.631513",
     "status": "completed"
    },
    "tags": []
   },
   "outputs": [
    {
     "name": "stderr",
     "output_type": "stream",
     "text": [
      "/usr/local/lib/python3.11/dist-packages/learntools/sql/ex1.py:64: SyntaxWarning: assertion is always true, perhaps remove parentheses?\n",
      "  assert (type(fields_for_plotting[0] == str), \"The first item in `fields_for_plotting` should be a string.\")\n",
      "/usr/local/lib/python3.11/dist-packages/learntools/sql/ex1.py:65: SyntaxWarning: assertion is always true, perhaps remove parentheses?\n",
      "  assert (type(fields_for_plotting[1] == str), \"The second item in `fields_for_plotting` should be a string.\")\n"
     ]
    },
    {
     "name": "stdout",
     "output_type": "stream",
     "text": [
      "Using Kaggle's public dataset BigQuery integration.\n",
      "Setup Complete\n"
     ]
    }
   ],
   "source": [
    "# Set up feedack system\n",
    "from learntools.core import binder\n",
    "binder.bind(globals())\n",
    "from learntools.sql.ex1 import *\n",
    "print(\"Setup Complete\")"
   ]
  },
  {
   "cell_type": "markdown",
   "id": "8fb94764",
   "metadata": {
    "papermill": {
     "duration": 0.003643,
     "end_time": "2025-07-05T05:02:21.171946",
     "exception": false,
     "start_time": "2025-07-05T05:02:21.168303",
     "status": "completed"
    },
    "tags": []
   },
   "source": [
    "Use the next code cell to fetch the dataset."
   ]
  },
  {
   "cell_type": "code",
   "execution_count": 2,
   "id": "1db9ea1a",
   "metadata": {
    "execution": {
     "iopub.execute_input": "2025-07-05T05:02:21.181548Z",
     "iopub.status.busy": "2025-07-05T05:02:21.180912Z",
     "iopub.status.idle": "2025-07-05T05:02:21.437985Z",
     "shell.execute_reply": "2025-07-05T05:02:21.437051Z"
    },
    "papermill": {
     "duration": 0.264006,
     "end_time": "2025-07-05T05:02:21.439897",
     "exception": false,
     "start_time": "2025-07-05T05:02:21.175891",
     "status": "completed"
    },
    "tags": []
   },
   "outputs": [
    {
     "name": "stdout",
     "output_type": "stream",
     "text": [
      "Using Kaggle's public dataset BigQuery integration.\n"
     ]
    }
   ],
   "source": [
    "from google.cloud import bigquery\n",
    "\n",
    "# Create a \"Client\" object\n",
    "client = bigquery.Client()\n",
    "\n",
    "# Construct a reference to the \"chicago_crime\" dataset\n",
    "dataset_ref = client.dataset(\"chicago_crime\", project=\"bigquery-public-data\")\n",
    "\n",
    "# API request - fetch the dataset\n",
    "dataset = client.get_dataset(dataset_ref)"
   ]
  },
  {
   "cell_type": "markdown",
   "id": "aacffccc",
   "metadata": {
    "papermill": {
     "duration": 0.003933,
     "end_time": "2025-07-05T05:02:21.449098",
     "exception": false,
     "start_time": "2025-07-05T05:02:21.445165",
     "status": "completed"
    },
    "tags": []
   },
   "source": [
    "# Exercises\n",
    "\n",
    "### 1) Count tables in the dataset\n",
    "\n",
    "How many tables are in the Chicago Crime dataset?"
   ]
  },
  {
   "cell_type": "code",
   "execution_count": 3,
   "id": "e0531aac",
   "metadata": {
    "execution": {
     "iopub.execute_input": "2025-07-05T05:02:21.459118Z",
     "iopub.status.busy": "2025-07-05T05:02:21.458716Z",
     "iopub.status.idle": "2025-07-05T05:02:21.462963Z",
     "shell.execute_reply": "2025-07-05T05:02:21.462210Z"
    },
    "papermill": {
     "duration": 0.011116,
     "end_time": "2025-07-05T05:02:21.464409",
     "exception": false,
     "start_time": "2025-07-05T05:02:21.453293",
     "status": "completed"
    },
    "tags": []
   },
   "outputs": [],
   "source": [
    "# Write the code you need here to figure out the answer"
   ]
  },
  {
   "cell_type": "code",
   "execution_count": 4,
   "id": "77e82589",
   "metadata": {
    "execution": {
     "iopub.execute_input": "2025-07-05T05:02:21.473844Z",
     "iopub.status.busy": "2025-07-05T05:02:21.473546Z",
     "iopub.status.idle": "2025-07-05T05:02:21.672159Z",
     "shell.execute_reply": "2025-07-05T05:02:21.670961Z"
    },
    "papermill": {
     "duration": 0.205225,
     "end_time": "2025-07-05T05:02:21.673813",
     "exception": false,
     "start_time": "2025-07-05T05:02:21.468588",
     "status": "completed"
    },
    "tags": []
   },
   "outputs": [
    {
     "name": "stdout",
     "output_type": "stream",
     "text": [
      "1\n"
     ]
    },
    {
     "data": {
      "application/javascript": [
       "parent.postMessage({\"jupyterEvent\": \"custom.exercise_interaction\", \"data\": {\"outcomeType\": 1, \"valueTowardsCompletion\": 0.3333333333333333, \"interactionType\": 1, \"questionType\": 1, \"questionId\": \"1_CountTables\", \"learnToolsVersion\": \"0.3.5\", \"failureMessage\": \"\", \"exceptionClass\": \"\", \"trace\": \"\"}}, \"*\")"
      ],
      "text/plain": [
       "<IPython.core.display.Javascript object>"
      ]
     },
     "metadata": {},
     "output_type": "display_data"
    },
    {
     "data": {
      "text/markdown": [
       "<span style=\"color:#33cc33\">Correct</span>"
      ],
      "text/plain": [
       "Correct"
      ]
     },
     "metadata": {},
     "output_type": "display_data"
    }
   ],
   "source": [
    "tables = list(client.list_tables(dataset))\n",
    "print(len(tables))\n",
    "\n",
    "\n",
    "\n",
    "num_tables = 1 # Store the answer as num_tables and then run this cell\n",
    "\n",
    "# Check your answer\n",
    "q_1.check()"
   ]
  },
  {
   "cell_type": "markdown",
   "id": "ba8ef661",
   "metadata": {
    "papermill": {
     "duration": 0.00403,
     "end_time": "2025-07-05T05:02:21.682346",
     "exception": false,
     "start_time": "2025-07-05T05:02:21.678316",
     "status": "completed"
    },
    "tags": []
   },
   "source": [
    "For a hint or the solution, uncomment the appropriate line below."
   ]
  },
  {
   "cell_type": "code",
   "execution_count": 5,
   "id": "c480aab6",
   "metadata": {
    "execution": {
     "iopub.execute_input": "2025-07-05T05:02:21.691956Z",
     "iopub.status.busy": "2025-07-05T05:02:21.691640Z",
     "iopub.status.idle": "2025-07-05T05:02:21.696015Z",
     "shell.execute_reply": "2025-07-05T05:02:21.695077Z"
    },
    "papermill": {
     "duration": 0.011165,
     "end_time": "2025-07-05T05:02:21.697726",
     "exception": false,
     "start_time": "2025-07-05T05:02:21.686561",
     "status": "completed"
    },
    "tags": []
   },
   "outputs": [],
   "source": [
    "#q_1.hint()\n",
    "#q_1.solution()"
   ]
  },
  {
   "cell_type": "markdown",
   "id": "5f389d43",
   "metadata": {
    "papermill": {
     "duration": 0.004692,
     "end_time": "2025-07-05T05:02:21.706913",
     "exception": false,
     "start_time": "2025-07-05T05:02:21.702221",
     "status": "completed"
    },
    "tags": []
   },
   "source": [
    "### 2) Explore the table schema\n",
    "\n",
    "How many columns in the `crime` table have `TIMESTAMP` data?"
   ]
  },
  {
   "cell_type": "code",
   "execution_count": 6,
   "id": "13e19c12",
   "metadata": {
    "execution": {
     "iopub.execute_input": "2025-07-05T05:02:21.716751Z",
     "iopub.status.busy": "2025-07-05T05:02:21.716406Z",
     "iopub.status.idle": "2025-07-05T05:02:21.720730Z",
     "shell.execute_reply": "2025-07-05T05:02:21.719814Z"
    },
    "papermill": {
     "duration": 0.011129,
     "end_time": "2025-07-05T05:02:21.722303",
     "exception": false,
     "start_time": "2025-07-05T05:02:21.711174",
     "status": "completed"
    },
    "tags": []
   },
   "outputs": [],
   "source": [
    "# Write the code to figure out the answer"
   ]
  },
  {
   "cell_type": "code",
   "execution_count": 7,
   "id": "3b8b5b7b",
   "metadata": {
    "execution": {
     "iopub.execute_input": "2025-07-05T05:02:21.732457Z",
     "iopub.status.busy": "2025-07-05T05:02:21.732109Z",
     "iopub.status.idle": "2025-07-05T05:02:22.005986Z",
     "shell.execute_reply": "2025-07-05T05:02:22.004801Z"
    },
    "papermill": {
     "duration": 0.280729,
     "end_time": "2025-07-05T05:02:22.007559",
     "exception": false,
     "start_time": "2025-07-05T05:02:21.726830",
     "status": "completed"
    },
    "tags": []
   },
   "outputs": [
    {
     "name": "stdout",
     "output_type": "stream",
     "text": [
      "[SchemaField('unique_key', 'INTEGER', 'REQUIRED', None, None, (), None), SchemaField('case_number', 'STRING', 'NULLABLE', None, None, (), None), SchemaField('date', 'TIMESTAMP', 'NULLABLE', None, None, (), None), SchemaField('block', 'STRING', 'NULLABLE', None, None, (), None), SchemaField('iucr', 'STRING', 'NULLABLE', None, None, (), None), SchemaField('primary_type', 'STRING', 'NULLABLE', None, None, (), None), SchemaField('description', 'STRING', 'NULLABLE', None, None, (), None), SchemaField('location_description', 'STRING', 'NULLABLE', None, None, (), None), SchemaField('arrest', 'BOOLEAN', 'NULLABLE', None, None, (), None), SchemaField('domestic', 'BOOLEAN', 'NULLABLE', None, None, (), None), SchemaField('beat', 'INTEGER', 'NULLABLE', None, None, (), None), SchemaField('district', 'INTEGER', 'NULLABLE', None, None, (), None), SchemaField('ward', 'INTEGER', 'NULLABLE', None, None, (), None), SchemaField('community_area', 'INTEGER', 'NULLABLE', None, None, (), None), SchemaField('fbi_code', 'STRING', 'NULLABLE', None, None, (), None), SchemaField('x_coordinate', 'FLOAT', 'NULLABLE', None, None, (), None), SchemaField('y_coordinate', 'FLOAT', 'NULLABLE', None, None, (), None), SchemaField('year', 'INTEGER', 'NULLABLE', None, None, (), None), SchemaField('updated_on', 'TIMESTAMP', 'NULLABLE', None, None, (), None), SchemaField('latitude', 'FLOAT', 'NULLABLE', None, None, (), None), SchemaField('longitude', 'FLOAT', 'NULLABLE', None, None, (), None), SchemaField('location', 'STRING', 'NULLABLE', None, None, (), None)]\n"
     ]
    },
    {
     "data": {
      "application/javascript": [
       "parent.postMessage({\"jupyterEvent\": \"custom.exercise_interaction\", \"data\": {\"outcomeType\": 1, \"valueTowardsCompletion\": 0.3333333333333333, \"interactionType\": 1, \"questionType\": 1, \"questionId\": \"2_CountTimestampFields\", \"learnToolsVersion\": \"0.3.5\", \"failureMessage\": \"\", \"exceptionClass\": \"\", \"trace\": \"\"}}, \"*\")"
      ],
      "text/plain": [
       "<IPython.core.display.Javascript object>"
      ]
     },
     "metadata": {},
     "output_type": "display_data"
    },
    {
     "data": {
      "text/markdown": [
       "<span style=\"color:#33cc33\">Correct</span>"
      ],
      "text/plain": [
       "Correct"
      ]
     },
     "metadata": {},
     "output_type": "display_data"
    }
   ],
   "source": [
    "table_ref = dataset_ref.table(\"crime\")\n",
    "table = client.get_table(table_ref)\n",
    "print(table.schema)\n",
    "\n",
    "num_timestamp_fields = 2   # Put your answer here\n",
    "\n",
    "# Check your answer\n",
    "q_2.check()"
   ]
  },
  {
   "cell_type": "markdown",
   "id": "11094215",
   "metadata": {
    "papermill": {
     "duration": 0.004193,
     "end_time": "2025-07-05T05:02:22.017332",
     "exception": false,
     "start_time": "2025-07-05T05:02:22.013139",
     "status": "completed"
    },
    "tags": []
   },
   "source": [
    "For a hint or the solution, uncomment the appropriate line below."
   ]
  },
  {
   "cell_type": "code",
   "execution_count": 8,
   "id": "51487f62",
   "metadata": {
    "execution": {
     "iopub.execute_input": "2025-07-05T05:02:22.027653Z",
     "iopub.status.busy": "2025-07-05T05:02:22.027017Z",
     "iopub.status.idle": "2025-07-05T05:02:22.031744Z",
     "shell.execute_reply": "2025-07-05T05:02:22.030776Z"
    },
    "papermill": {
     "duration": 0.011739,
     "end_time": "2025-07-05T05:02:22.033421",
     "exception": false,
     "start_time": "2025-07-05T05:02:22.021682",
     "status": "completed"
    },
    "tags": []
   },
   "outputs": [],
   "source": [
    "#q_2.hint()\n",
    "#q_2.solution()"
   ]
  },
  {
   "cell_type": "markdown",
   "id": "dc002367",
   "metadata": {
    "papermill": {
     "duration": 0.004453,
     "end_time": "2025-07-05T05:02:22.042561",
     "exception": false,
     "start_time": "2025-07-05T05:02:22.038108",
     "status": "completed"
    },
    "tags": []
   },
   "source": [
    "### 3) Create a crime map\n",
    "\n",
    "If you wanted to create a map with a dot at the location of each crime, what are the names of the two fields you likely need to pull out of the `crime` table to plot the crimes on a map?"
   ]
  },
  {
   "cell_type": "code",
   "execution_count": 9,
   "id": "c7addba1",
   "metadata": {
    "execution": {
     "iopub.execute_input": "2025-07-05T05:02:22.053420Z",
     "iopub.status.busy": "2025-07-05T05:02:22.053064Z",
     "iopub.status.idle": "2025-07-05T05:02:22.060078Z",
     "shell.execute_reply": "2025-07-05T05:02:22.059134Z"
    },
    "papermill": {
     "duration": 0.014765,
     "end_time": "2025-07-05T05:02:22.061780",
     "exception": false,
     "start_time": "2025-07-05T05:02:22.047015",
     "status": "completed"
    },
    "tags": []
   },
   "outputs": [
    {
     "data": {
      "text/plain": [
       "[SchemaField('unique_key', 'INTEGER', 'REQUIRED', None, None, (), None),\n",
       " SchemaField('case_number', 'STRING', 'NULLABLE', None, None, (), None),\n",
       " SchemaField('date', 'TIMESTAMP', 'NULLABLE', None, None, (), None),\n",
       " SchemaField('block', 'STRING', 'NULLABLE', None, None, (), None),\n",
       " SchemaField('iucr', 'STRING', 'NULLABLE', None, None, (), None),\n",
       " SchemaField('primary_type', 'STRING', 'NULLABLE', None, None, (), None),\n",
       " SchemaField('description', 'STRING', 'NULLABLE', None, None, (), None),\n",
       " SchemaField('location_description', 'STRING', 'NULLABLE', None, None, (), None),\n",
       " SchemaField('arrest', 'BOOLEAN', 'NULLABLE', None, None, (), None),\n",
       " SchemaField('domestic', 'BOOLEAN', 'NULLABLE', None, None, (), None),\n",
       " SchemaField('beat', 'INTEGER', 'NULLABLE', None, None, (), None),\n",
       " SchemaField('district', 'INTEGER', 'NULLABLE', None, None, (), None),\n",
       " SchemaField('ward', 'INTEGER', 'NULLABLE', None, None, (), None),\n",
       " SchemaField('community_area', 'INTEGER', 'NULLABLE', None, None, (), None),\n",
       " SchemaField('fbi_code', 'STRING', 'NULLABLE', None, None, (), None),\n",
       " SchemaField('x_coordinate', 'FLOAT', 'NULLABLE', None, None, (), None),\n",
       " SchemaField('y_coordinate', 'FLOAT', 'NULLABLE', None, None, (), None),\n",
       " SchemaField('year', 'INTEGER', 'NULLABLE', None, None, (), None),\n",
       " SchemaField('updated_on', 'TIMESTAMP', 'NULLABLE', None, None, (), None),\n",
       " SchemaField('latitude', 'FLOAT', 'NULLABLE', None, None, (), None),\n",
       " SchemaField('longitude', 'FLOAT', 'NULLABLE', None, None, (), None),\n",
       " SchemaField('location', 'STRING', 'NULLABLE', None, None, (), None)]"
      ]
     },
     "execution_count": 9,
     "metadata": {},
     "output_type": "execute_result"
    }
   ],
   "source": [
    "# Write the code here to explore the data so you can find the answer\n",
    "table.schema"
   ]
  },
  {
   "cell_type": "code",
   "execution_count": 10,
   "id": "d4ca0d97",
   "metadata": {
    "execution": {
     "iopub.execute_input": "2025-07-05T05:02:22.072947Z",
     "iopub.status.busy": "2025-07-05T05:02:22.072657Z",
     "iopub.status.idle": "2025-07-05T05:02:22.080445Z",
     "shell.execute_reply": "2025-07-05T05:02:22.079382Z"
    },
    "papermill": {
     "duration": 0.015163,
     "end_time": "2025-07-05T05:02:22.081981",
     "exception": false,
     "start_time": "2025-07-05T05:02:22.066818",
     "status": "completed"
    },
    "tags": []
   },
   "outputs": [
    {
     "data": {
      "application/javascript": [
       "parent.postMessage({\"jupyterEvent\": \"custom.exercise_interaction\", \"data\": {\"outcomeType\": 1, \"valueTowardsCompletion\": 0.3333333333333333, \"interactionType\": 1, \"questionType\": 2, \"questionId\": \"3_IdentifyFieldsForPlotting\", \"learnToolsVersion\": \"0.3.5\", \"failureMessage\": \"\", \"exceptionClass\": \"\", \"trace\": \"\"}}, \"*\")"
      ],
      "text/plain": [
       "<IPython.core.display.Javascript object>"
      ]
     },
     "metadata": {},
     "output_type": "display_data"
    },
    {
     "data": {
      "text/markdown": [
       "<span style=\"color:#33cc33\">Correct</span>"
      ],
      "text/plain": [
       "Correct"
      ]
     },
     "metadata": {},
     "output_type": "display_data"
    }
   ],
   "source": [
    "fields_for_plotting = ['latitude', 'longitude'] # Put your answers here\n",
    "\n",
    "# Check your answer\n",
    "q_3.check()"
   ]
  },
  {
   "cell_type": "markdown",
   "id": "884af54a",
   "metadata": {
    "papermill": {
     "duration": 0.00455,
     "end_time": "2025-07-05T05:02:22.091609",
     "exception": false,
     "start_time": "2025-07-05T05:02:22.087059",
     "status": "completed"
    },
    "tags": []
   },
   "source": [
    "For a hint or the solution, uncomment the appropriate line below."
   ]
  },
  {
   "cell_type": "code",
   "execution_count": 11,
   "id": "d1b2473e",
   "metadata": {
    "execution": {
     "iopub.execute_input": "2025-07-05T05:02:22.102362Z",
     "iopub.status.busy": "2025-07-05T05:02:22.102015Z",
     "iopub.status.idle": "2025-07-05T05:02:22.105964Z",
     "shell.execute_reply": "2025-07-05T05:02:22.104977Z"
    },
    "papermill": {
     "duration": 0.011299,
     "end_time": "2025-07-05T05:02:22.107618",
     "exception": false,
     "start_time": "2025-07-05T05:02:22.096319",
     "status": "completed"
    },
    "tags": []
   },
   "outputs": [],
   "source": [
    "#q_3.hint()\n",
    "#q_3.solution()"
   ]
  },
  {
   "cell_type": "markdown",
   "id": "4f25c95a",
   "metadata": {
    "papermill": {
     "duration": 0.00478,
     "end_time": "2025-07-05T05:02:22.117435",
     "exception": false,
     "start_time": "2025-07-05T05:02:22.112655",
     "status": "completed"
    },
    "tags": []
   },
   "source": [
    "Thinking about the question above, there are a few columns that appear to have geographic data. Look at a few values (with the `list_rows()` command) to see if you can determine their relationship.  Two columns will still be hard to interpret. But it should be obvious how the `location` column relates to `latitude` and `longitude`."
   ]
  },
  {
   "cell_type": "code",
   "execution_count": 12,
   "id": "48d4c5af",
   "metadata": {
    "execution": {
     "iopub.execute_input": "2025-07-05T05:02:22.128915Z",
     "iopub.status.busy": "2025-07-05T05:02:22.127911Z",
     "iopub.status.idle": "2025-07-05T05:02:22.710337Z",
     "shell.execute_reply": "2025-07-05T05:02:22.709090Z"
    },
    "papermill": {
     "duration": 0.589762,
     "end_time": "2025-07-05T05:02:22.711960",
     "exception": false,
     "start_time": "2025-07-05T05:02:22.122198",
     "status": "completed"
    },
    "tags": []
   },
   "outputs": [
    {
     "data": {
      "text/html": [
       "<div>\n",
       "<style scoped>\n",
       "    .dataframe tbody tr th:only-of-type {\n",
       "        vertical-align: middle;\n",
       "    }\n",
       "\n",
       "    .dataframe tbody tr th {\n",
       "        vertical-align: top;\n",
       "    }\n",
       "\n",
       "    .dataframe thead th {\n",
       "        text-align: right;\n",
       "    }\n",
       "</style>\n",
       "<table border=\"1\" class=\"dataframe\">\n",
       "  <thead>\n",
       "    <tr style=\"text-align: right;\">\n",
       "      <th></th>\n",
       "      <th>unique_key</th>\n",
       "      <th>case_number</th>\n",
       "      <th>date</th>\n",
       "      <th>block</th>\n",
       "      <th>iucr</th>\n",
       "      <th>primary_type</th>\n",
       "      <th>description</th>\n",
       "      <th>location_description</th>\n",
       "      <th>arrest</th>\n",
       "      <th>domestic</th>\n",
       "      <th>...</th>\n",
       "      <th>ward</th>\n",
       "      <th>community_area</th>\n",
       "      <th>fbi_code</th>\n",
       "      <th>x_coordinate</th>\n",
       "      <th>y_coordinate</th>\n",
       "      <th>year</th>\n",
       "      <th>updated_on</th>\n",
       "      <th>latitude</th>\n",
       "      <th>longitude</th>\n",
       "      <th>location</th>\n",
       "    </tr>\n",
       "  </thead>\n",
       "  <tbody>\n",
       "    <tr>\n",
       "      <th>0</th>\n",
       "      <td>28627</td>\n",
       "      <td>JE415175</td>\n",
       "      <td>2021-10-19 13:49:00+00:00</td>\n",
       "      <td>001XX N STATE ST</td>\n",
       "      <td>0110</td>\n",
       "      <td>HOMICIDE</td>\n",
       "      <td>FIRST DEGREE MURDER</td>\n",
       "      <td>CTA \"L\" TRAIN</td>\n",
       "      <td>True</td>\n",
       "      <td>False</td>\n",
       "      <td>...</td>\n",
       "      <td>42</td>\n",
       "      <td>32</td>\n",
       "      <td>01A</td>\n",
       "      <td>1176330.0</td>\n",
       "      <td>1901649.0</td>\n",
       "      <td>2021</td>\n",
       "      <td>2025-03-13 15:40:19+00:00</td>\n",
       "      <td>41.885482</td>\n",
       "      <td>-87.627936</td>\n",
       "      <td>(41.885481891, -87.627935689)</td>\n",
       "    </tr>\n",
       "    <tr>\n",
       "      <th>1</th>\n",
       "      <td>12189203</td>\n",
       "      <td>JD394481</td>\n",
       "      <td>2020-10-09 07:00:00+00:00</td>\n",
       "      <td>0000X E WACKER PL</td>\n",
       "      <td>0281</td>\n",
       "      <td>CRIMINAL SEXUAL ASSAULT</td>\n",
       "      <td>NON-AGGRAVATED</td>\n",
       "      <td>HOTEL / MOTEL</td>\n",
       "      <td>False</td>\n",
       "      <td>False</td>\n",
       "      <td>...</td>\n",
       "      <td>42</td>\n",
       "      <td>32</td>\n",
       "      <td>02</td>\n",
       "      <td>1176964.0</td>\n",
       "      <td>1902140.0</td>\n",
       "      <td>2020</td>\n",
       "      <td>2020-10-16 15:42:28+00:00</td>\n",
       "      <td>41.886815</td>\n",
       "      <td>-87.625593</td>\n",
       "      <td>(41.886814897, -87.625592678)</td>\n",
       "    </tr>\n",
       "    <tr>\n",
       "      <th>2</th>\n",
       "      <td>10966486</td>\n",
       "      <td>JA289203</td>\n",
       "      <td>2017-05-28 17:30:00+00:00</td>\n",
       "      <td>001XX N WABASH AVE</td>\n",
       "      <td>0281</td>\n",
       "      <td>CRIM SEXUAL ASSAULT</td>\n",
       "      <td>NON-AGGRAVATED</td>\n",
       "      <td>CTA PLATFORM</td>\n",
       "      <td>False</td>\n",
       "      <td>False</td>\n",
       "      <td>...</td>\n",
       "      <td>42</td>\n",
       "      <td>32</td>\n",
       "      <td>02</td>\n",
       "      <td>1176791.0</td>\n",
       "      <td>1901351.0</td>\n",
       "      <td>2017</td>\n",
       "      <td>2018-02-10 15:50:01+00:00</td>\n",
       "      <td>41.884654</td>\n",
       "      <td>-87.626252</td>\n",
       "      <td>(41.884653752, -87.626251847)</td>\n",
       "    </tr>\n",
       "    <tr>\n",
       "      <th>3</th>\n",
       "      <td>11586737</td>\n",
       "      <td>JC140804</td>\n",
       "      <td>2019-02-04 23:00:00+00:00</td>\n",
       "      <td>002XX N WABASH AVE</td>\n",
       "      <td>0281</td>\n",
       "      <td>CRIMINAL SEXUAL ASSAULT</td>\n",
       "      <td>NON-AGGRAVATED</td>\n",
       "      <td>HOTEL / MOTEL</td>\n",
       "      <td>False</td>\n",
       "      <td>False</td>\n",
       "      <td>...</td>\n",
       "      <td>42</td>\n",
       "      <td>32</td>\n",
       "      <td>02</td>\n",
       "      <td>1176777.0</td>\n",
       "      <td>1901808.0</td>\n",
       "      <td>2019</td>\n",
       "      <td>2020-04-24 15:39:50+00:00</td>\n",
       "      <td>41.885908</td>\n",
       "      <td>-87.626289</td>\n",
       "      <td>(41.885908101, -87.626289429)</td>\n",
       "    </tr>\n",
       "    <tr>\n",
       "      <th>4</th>\n",
       "      <td>2583659</td>\n",
       "      <td>HJ175715</td>\n",
       "      <td>2003-02-10 14:00:00+00:00</td>\n",
       "      <td>002XX S CANAL ST</td>\n",
       "      <td>0312</td>\n",
       "      <td>ROBBERY</td>\n",
       "      <td>ARMED:KNIFE/CUTTING INSTRUMENT</td>\n",
       "      <td>OTHER COMMERCIAL TRANSPORTATION</td>\n",
       "      <td>False</td>\n",
       "      <td>False</td>\n",
       "      <td>...</td>\n",
       "      <td>2</td>\n",
       "      <td>28</td>\n",
       "      <td>03</td>\n",
       "      <td>1173177.0</td>\n",
       "      <td>1899236.0</td>\n",
       "      <td>2003</td>\n",
       "      <td>2018-02-28 15:56:25+00:00</td>\n",
       "      <td>41.878931</td>\n",
       "      <td>-87.639586</td>\n",
       "      <td>(41.878931004, -87.639585621)</td>\n",
       "    </tr>\n",
       "  </tbody>\n",
       "</table>\n",
       "<p>5 rows × 22 columns</p>\n",
       "</div>"
      ],
      "text/plain": [
       "   unique_key case_number                      date               block  iucr  \\\n",
       "0       28627    JE415175 2021-10-19 13:49:00+00:00    001XX N STATE ST  0110   \n",
       "1    12189203    JD394481 2020-10-09 07:00:00+00:00   0000X E WACKER PL  0281   \n",
       "2    10966486    JA289203 2017-05-28 17:30:00+00:00  001XX N WABASH AVE  0281   \n",
       "3    11586737    JC140804 2019-02-04 23:00:00+00:00  002XX N WABASH AVE  0281   \n",
       "4     2583659    HJ175715 2003-02-10 14:00:00+00:00    002XX S CANAL ST  0312   \n",
       "\n",
       "              primary_type                     description  \\\n",
       "0                 HOMICIDE             FIRST DEGREE MURDER   \n",
       "1  CRIMINAL SEXUAL ASSAULT                  NON-AGGRAVATED   \n",
       "2      CRIM SEXUAL ASSAULT                  NON-AGGRAVATED   \n",
       "3  CRIMINAL SEXUAL ASSAULT                  NON-AGGRAVATED   \n",
       "4                  ROBBERY  ARMED:KNIFE/CUTTING INSTRUMENT   \n",
       "\n",
       "              location_description  arrest  domestic  ...  ward  \\\n",
       "0                    CTA \"L\" TRAIN    True     False  ...    42   \n",
       "1                    HOTEL / MOTEL   False     False  ...    42   \n",
       "2                     CTA PLATFORM   False     False  ...    42   \n",
       "3                    HOTEL / MOTEL   False     False  ...    42   \n",
       "4  OTHER COMMERCIAL TRANSPORTATION   False     False  ...     2   \n",
       "\n",
       "   community_area  fbi_code  x_coordinate y_coordinate  year  \\\n",
       "0              32       01A     1176330.0    1901649.0  2021   \n",
       "1              32        02     1176964.0    1902140.0  2020   \n",
       "2              32        02     1176791.0    1901351.0  2017   \n",
       "3              32        02     1176777.0    1901808.0  2019   \n",
       "4              28        03     1173177.0    1899236.0  2003   \n",
       "\n",
       "                 updated_on   latitude  longitude  \\\n",
       "0 2025-03-13 15:40:19+00:00  41.885482 -87.627936   \n",
       "1 2020-10-16 15:42:28+00:00  41.886815 -87.625593   \n",
       "2 2018-02-10 15:50:01+00:00  41.884654 -87.626252   \n",
       "3 2020-04-24 15:39:50+00:00  41.885908 -87.626289   \n",
       "4 2018-02-28 15:56:25+00:00  41.878931 -87.639586   \n",
       "\n",
       "                        location  \n",
       "0  (41.885481891, -87.627935689)  \n",
       "1  (41.886814897, -87.625592678)  \n",
       "2  (41.884653752, -87.626251847)  \n",
       "3  (41.885908101, -87.626289429)  \n",
       "4  (41.878931004, -87.639585621)  \n",
       "\n",
       "[5 rows x 22 columns]"
      ]
     },
     "execution_count": 12,
     "metadata": {},
     "output_type": "execute_result"
    }
   ],
   "source": [
    "# Scratch space for your code\n",
    "client.list_rows(table, max_results= 5).to_dataframe()"
   ]
  },
  {
   "cell_type": "markdown",
   "id": "95916fd9",
   "metadata": {
    "papermill": {
     "duration": 0.004966,
     "end_time": "2025-07-05T05:02:22.722614",
     "exception": false,
     "start_time": "2025-07-05T05:02:22.717648",
     "status": "completed"
    },
    "tags": []
   },
   "source": [
    "# Keep going\n",
    "\n",
    "You've looked at the schema, but you haven't yet done anything exciting with the data itself. Things get more interesting when you get to the data, so keep going to **[write your first SQL query](https://www.kaggle.com/dansbecker/select-from-where).**"
   ]
  },
  {
   "cell_type": "markdown",
   "id": "e5db1e26",
   "metadata": {
    "papermill": {
     "duration": 0.004999,
     "end_time": "2025-07-05T05:02:22.732683",
     "exception": false,
     "start_time": "2025-07-05T05:02:22.727684",
     "status": "completed"
    },
    "tags": []
   },
   "source": [
    "---\n",
    "\n",
    "\n",
    "\n",
    "\n",
    "*Have questions or comments? Visit the [course discussion forum](https://www.kaggle.com/learn/intro-to-sql/discussion) to chat with other learners.*"
   ]
  }
 ],
 "metadata": {
  "kaggle": {
   "accelerator": "none",
   "dataSources": [
    {
     "datasetId": 22090,
     "sourceId": 28376,
     "sourceType": "datasetVersion"
    },
    {
     "datasetId": 6057,
     "sourceId": 285982,
     "sourceType": "datasetVersion"
    }
   ],
   "isGpuEnabled": false,
   "isInternetEnabled": false,
   "language": "python",
   "sourceType": "notebook"
  },
  "kernelspec": {
   "display_name": "Python 3",
   "language": "python",
   "name": "python3"
  },
  "language_info": {
   "codemirror_mode": {
    "name": "ipython",
    "version": 3
   },
   "file_extension": ".py",
   "mimetype": "text/x-python",
   "name": "python",
   "nbconvert_exporter": "python",
   "pygments_lexer": "ipython3",
   "version": "3.11.11"
  },
  "papermill": {
   "default_parameters": {},
   "duration": 32.28414,
   "end_time": "2025-07-05T05:02:25.557470",
   "environment_variables": {},
   "exception": null,
   "input_path": "__notebook__.ipynb",
   "output_path": "__notebook__.ipynb",
   "parameters": {},
   "start_time": "2025-07-05T05:01:53.273330",
   "version": "2.6.0"
  }
 },
 "nbformat": 4,
 "nbformat_minor": 5
}
